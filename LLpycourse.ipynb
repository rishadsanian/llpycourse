{
 "cells": [
  {
   "attachments": {},
   "cell_type": "markdown",
   "metadata": {},
   "source": [
    "<h1>Lighthouse Labs Python Crash Course\n",
    "<h2>By: Rishad Alam"
   ]
  },
  {
   "attachments": {},
   "cell_type": "markdown",
   "metadata": {},
   "source": [
    "<h3> Projects:</h3>\n",
    "<ol>\n",
    "<li>Mad Libs Game</li>\n",
    "<li>Password Validator and Checker</li>\n",
    "<li>Receipt and Bill Splitter</li>\n",
    "<li>Math Addition Game </li>\n",
    "<li>Foosball Roster Exercise </li>\n",
    "<li>Others </li>\n",
    "</ol>\n"
   ]
  },
  {
   "attachments": {},
   "cell_type": "markdown",
   "metadata": {},
   "source": [
    "<h3>Mad Libs Game</h3>\n",
    "<p>Mad Libs is a phrasal template word game. The game prompts the player for a list of words to substitute for blanks in a story before displaying the full content.</p>"
   ]
  },
  {
   "cell_type": "code",
   "execution_count": 30,
   "metadata": {},
   "outputs": [
    {
     "name": "stdout",
     "output_type": "stream",
     "text": [
      "\n",
      "\n",
      "░░░░░░╔═╦═╦══╦══╗╔╗╔══╦══╦══╗░░░░░░\n",
      "░░░░░░║║║║║╔╗╠╗╗║║║╚║║╣╔╗║══╣░░░░░░\n",
      "░░░░░░║║║║║╠╣╠╩╝║║╚╦║║╣╔╗╠══║░░░░░░\n",
      "░░░░░░╚╩═╩╩╝╚╩══╝╚═╩══╩══╩══╝░░░░░░\n",
      "      MAD LIBS GAME by RISHAD \n",
      "            \n",
      "      Choose your story type:\n",
      "\n",
      "       type 0 for COLDPLAY\n",
      "       type 1 for NURSERY RYHME\n",
      "       type 2 for QUOTE\n",
      "       type 3 to EXIT\n",
      "                           \n",
      "Oops! That was not a valid number. Try again.\n",
      "Invalid entry, please try again.\n",
      "\n",
      "You chose Nursery Rhyme.\n",
      "\n",
      "There was a bum, who had a fart, and stinky was his smell O!\n",
      "\n",
      "\n",
      "Select another or type 3 to exit.\n",
      "\n",
      "Goodbye!\n"
     ]
    }
   ],
   "source": [
    "#List of stories Directory for Mad Lib Game. \n",
    "\n",
    "#Intro\n",
    "mainscreen=\"\"\"\n",
    "\n",
    "░░░░░░╔═╦═╦══╦══╗╔╗╔══╦══╦══╗░░░░░░\n",
    "░░░░░░║║║║║╔╗╠╗╗║║║╚║║╣╔╗║══╣░░░░░░\n",
    "░░░░░░║║║║║╠╣╠╩╝║║╚╦║║╣╔╗╠══║░░░░░░\n",
    "░░░░░░╚╩═╩╩╝╚╩══╝╚═╩══╩══╩══╝░░░░░░\n",
    "      MAD LIBS GAME by RISHAD \n",
    "            \n",
    "      Choose your story type:\n",
    "\n",
    "       type 0 for COLDPLAY\n",
    "       type 1 for NURSERY RYHME\n",
    "       type 2 for QUOTE\n",
    "       type 3 to EXIT\n",
    "                           \"\"\"\n",
    "\n",
    "            \n",
    "\n",
    "print(mainscreen)\n",
    "\n",
    "        \n",
    "story1=[\n",
    "    \"Coldplay\",\"VERB at the NOUN. Look how they VERB for you, and everything you do. Yeah, they were all DESCRIPTION.\", #Title and Story \n",
    "    [[\"a verb: \",\"VERB\"],[\"a noun:\",\"NOUN\"],[\"a verb:\",\"VERB\"],[\"a descritive word:\", 'DESCRIPTION']] #Prompt and Placeholders\n",
    "  ]\n",
    "story2=[\n",
    "    \"Nursery Rhyme\",\"There was a PROFESSION, who had a NOUN, and ADJECTIVE was his NOUN O!\", \n",
    "    [[\"a profession:\",\"PROFESSION\"],[\"a noun:\",\"NOUN\"], [\"an adjective: \",\"ADJECTIVE\"], [\"a noun:\",\"NOUN\"]]  \n",
    "  ]\n",
    "story3=[\n",
    "    \"Quote\", \"Behind every ADJECTIVE NOUN, is a INGADJECTIVE NOUN.\", \n",
    "    [[\"an adjective\", \"ADJECTIVE\"],[\"a noun\",\"NOUN\"],[\"an adjective ending with ing\",\"INGADJECTIVE\"],[\"a noun\", \"NOUN\"]]\n",
    "  ]\n",
    "\n",
    "stories=[story1, story2, story3] #story database\n",
    "\n",
    "#PROMPT SEQUENCE PICK STORY\n",
    "i=0\n",
    "userstoryselect=\"\"\n",
    "\n",
    "#User input and numerical validation\n",
    "while i==0: #Infinite loop\n",
    "  while True:\n",
    "    try:\n",
    "      userstoryselect=int(input(\"Type 0,1,or 2 to load story:\\n Press 3 to exit.\")) #Prompt-Story selector and int validation\n",
    "      break\n",
    "    except ValueError:\n",
    "        print(\"Oops! That was not a valid number. Try again.\")\n",
    "        \n",
    "\n",
    "#Exit option          \n",
    "  if userstoryselect==3:\n",
    "    print(\"Goodbye!\")\n",
    "    break\n",
    "\n",
    "#Numerical range validation\n",
    "  elif userstoryselect>2 :\n",
    "    print(\"Invalid entry, please try again.\")\n",
    "\n",
    "#Game computation\n",
    "  else:       \n",
    "      storysel=stories[userstoryselect]\n",
    "      storytitle = storysel[0]\n",
    "      storytext = storysel[1]\n",
    "      storyprompt = storysel[2]\n",
    "      for prompt, placeholder in storyprompt:\n",
    "        userinput=input(\"Please enter \"+ prompt) #Prompt word input\n",
    "        storytext=storytext.replace(placeholder,userinput,1)\n",
    "\n",
    "#Output\n",
    "  if storyprompt != \"\":\n",
    "      print (\"\\nYou chose \"+storytitle+\".\\n\\n\"+storytext)\n",
    "      print (\"\\n\\nSelect another or type 3 to exit.\\n\")\n",
    "      #reset\n",
    "      storytext=\"\"\n",
    "      storytitle=\"\"\n",
    "      storyprompt=\"\"\n"
   ]
  },
  {
   "attachments": {},
   "cell_type": "markdown",
   "metadata": {},
   "source": [
    "<h3>Password Validator</h3>\n",
    "<p>The first part, validator, lets users set a password by prompting inputs twice while checking for 8 character length.</p>\n"
   ]
  },
  {
   "cell_type": "code",
   "execution_count": 33,
   "metadata": {},
   "outputs": [
    {
     "name": "stdout",
     "output_type": "stream",
     "text": [
      "The password is less than 8 characters long. Please try again.\n",
      " Or type q to exit.\n",
      "Password not set.\n",
      "The passwords don't match. Please try again.\n",
      " Or type q to exit.\n",
      "Password set.\n"
     ]
    }
   ],
   "source": [
    "#Password Validator\n",
    "pwinput=input(\"Please set a password. \\n Passwords must be at least 8 characters long. Or type q to exit.\")\n",
    "validpw = \"\"\n",
    "\n",
    "i=1\n",
    "\n",
    "while i == 1: #infinite loop\n",
    "  if len(pwinput)>=8:\n",
    "    pwcheck=input(\"Please type in your password again.\")\n",
    "    if pwinput==pwcheck:\n",
    "        validpw=pwinput\n",
    "        print(\"Password set.\")\n",
    "        break\n",
    "    else:\n",
    "      print(\"Password not set.\")\n",
    "      print(\"The passwords don't match. Please try again.\\n Or type q to exit.\")\n",
    "      pwinput=input(\"Passwords don't match.\\n Please enter a password. Passwords must be at least 8 characters long. Or type q to exit\")\n",
    "      \n",
    "  elif pwinput==\"q\":\n",
    "    print(\"Password not set.\")\n",
    "    break\n",
    "  else:\n",
    "    print(\"The password is less than 8 characters long. Please try again.\\n Or type q to exit.\")\n",
    "    pwinput=input(\"Password less than 8 characters long. Please set a password. \\n Passwords must be at least 8 characters long. Or type q to exit\")\n",
    "    "
   ]
  },
  {
   "attachments": {},
   "cell_type": "markdown",
   "metadata": {},
   "source": [
    "<h3>Password Checker</h3>\n",
    "<p>The second part, checker, prompts users to input their set password and locks the user out after 3 incorrect attempts. The user must use the validator again to reset their password.</p>"
   ]
  },
  {
   "cell_type": "code",
   "execution_count": 34,
   "metadata": {},
   "outputs": [
    {
     "name": "stdout",
     "output_type": "stream",
     "text": [
      "Incorrect. Please try again. 2 attempts left.\n",
      "Incorrect. Please try again. 1 attempts left.\n",
      "Login successful.\n"
     ]
    }
   ],
   "source": [
    "# Password Checker with limit of 3 attempts. Used the same password as validator password.\n",
    "\n",
    "if validpw == \"locked\":\n",
    "    print(\"You have exceeded the number of attempts. Please reset your password in the password validator above.\")\n",
    "elif validpw ==\"\":\n",
    "    print(\"No password has been set. Please make a password using the password validator above.\")\n",
    "\n",
    "else:\n",
    "\n",
    "    password = validpw\n",
    "    attempts = 0\n",
    "\n",
    "    while attempts < 3:\n",
    "        userinputpw = input(\"What is your password?\")\n",
    "        if userinputpw == password:\n",
    "            print(\"Login successful.\")\n",
    "            break\n",
    "        elif attempts < 2:\n",
    "            attempts += 1\n",
    "            print(\"Incorrect. Please try again. \"+ str(2-attempts+1)+\" attempts left.\")# prints number of attempts left\n",
    "            \n",
    "        else:\n",
    "            print(\"Incorrect. You have exceeded the number of attempts. Please reset your password in the password validator above.\")\n",
    "            attempts += 1\n",
    "            validpw = \"locked\"\n"
   ]
  },
  {
   "attachments": {},
   "cell_type": "markdown",
   "metadata": {},
   "source": [
    "<h3>Receipt and Bill Splitter</h3>\n",
    "<p>The first part demonstrates a more complex receipts with tips and a bill splitter. </p>\n",
    "<p>The second part is a simple receipt generator. It showcases two methods of outputs. </p>\n"
   ]
  },
  {
   "cell_type": "code",
   "execution_count": 67,
   "metadata": {},
   "outputs": [
    {
     "name": "stdout",
     "output_type": "stream",
     "text": [
      "^C\n",
      "Note: you may need to restart the kernel to use updated packages.\n"
     ]
    },
    {
     "name": "stdout",
     "output_type": "stream",
     "text": [
      "Requirement already satisfied: tabulate in c:\\users\\risha\\appdata\\local\\packages\\pythonsoftwarefoundation.python.3.10_qbz5n2kfra8p0\\localcache\\local-packages\\python310\\site-packages (0.9.0)\n"
     ]
    }
   ],
   "source": [
    "# Used to produce receipts for a question below.\n",
    "pip install tabulate\n",
    "# imported tabulate from package\n",
    "from tabulate import tabulate"
   ]
  },
  {
   "cell_type": "code",
   "execution_count": 276,
   "metadata": {},
   "outputs": [
    {
     "name": "stdout",
     "output_type": "stream",
     "text": [
      "Receipt\n",
      " ------------  ------\n",
      "Subtotal:     $200.0\n",
      "Tax (13.0%):  $26.0\n",
      "Total:        $226.0\n",
      "Tip (10.0%):  $20.0\n",
      "Grand total:  $246.0\n",
      "------------  ------\n",
      "Your bill split 2 ways is $ 123.0 per person.\n"
     ]
    }
   ],
   "source": [
    "# Bill Splitter with Receipt\n",
    "# Needs tabulate for receipt print\n",
    "# tip % is calculated on amount before tax\n",
    "# did not format amounts to 2 decimal places or a currency format\n",
    "# exception handing and data validation parameters not set\n",
    "\n",
    "# General Receipt\n",
    "subtotal = float(input(\"What is your subtotal?\"))  # input\n",
    "taxRate = 0.13\n",
    "tax = taxRate * subtotal\n",
    "total = subtotal + tax\n",
    "\n",
    "# Tip calculation\n",
    "tippercent = float(\n",
    "    (float(input(\"What % tip would you like to give?\")))/100)  # input\n",
    "tipamount = float(subtotal*tippercent)\n",
    "grandtotal = total + tipamount\n",
    "\n",
    "# Bill splitter\n",
    "numppl = int((input(\"How many people are paying the bill\")))  # input\n",
    "billsplit = grandtotal/numppl\n",
    "\n",
    "# storing and outputs\n",
    "receipt = [[\"Subtotal: \", \"$\"+str(subtotal)], [\"Tax (\" + str(taxRate*100)+\"%): \", \"$\" + str(tax)], [\"Total: \", \"$\"+str(\n",
    "    total)], [\"Tip (\" + str(tippercent*100)+\"%): \", \"$\"+str(tipamount)], [\"Grand total: \", \"$\"+str(grandtotal)]]\n",
    "billsplitter = print(\"Receipt\\n\", tabulate(receipt)), print(\n",
    "    \"Your bill split\", str(numppl), \"ways is $\", str(billsplit), \"per person.\")\n"
   ]
  },
  {
   "cell_type": "code",
   "execution_count": 269,
   "metadata": {},
   "outputs": [
    {
     "name": "stdout",
     "output_type": "stream",
     "text": [
      "Receipt \n",
      " ------------  -  ---\n",
      "Subtotal:     $  100\n",
      "Tax (13.0%):  $   13\n",
      "Total:        $  113\n",
      "------------  -  ---\n",
      "Receipt\n",
      "['Subtotal: ', '$100.0']\n",
      "['Tax (13.0%): ', '$13.0']\n",
      "['Total: ', '$113.0']\n"
     ]
    }
   ],
   "source": [
    "# Receipt Calculator\n",
    "# Not formatted to 2 decimal places\n",
    "\n",
    "subtotal = float(input('What is your subtotal?'))  # input\n",
    "taxRate = 0.13\n",
    "tax = taxRate * subtotal\n",
    "total = subtotal + tax\n",
    "\n",
    "# output1 - Needs Tabulate to print as table for output1 - Comment out if not using tabulate\n",
    "receipt = [[\"Subtotal: \", \"$\", subtotal], [\n",
    "    \"Tax (\" + str(taxRate*100)+\"%): \", \"$\", tax], [\"Total: \", \"$\", total]]\n",
    "print(\"Receipt \\n\", tabulate(receipt))\n",
    "\n",
    "# output2- loop method\n",
    "r2 = [[\"Subtotal: \", \"$\"+str(subtotal)], [\"Tax (\"+str(taxRate*100)+\"%): \",\n",
    "                                          \"$\"+str(tax)], [\"Total: \", \"$\"+str(total)]]\n",
    "print(\"Receipt\"),\n",
    "for i in r2:\n",
    "    print(i)\n"
   ]
  },
  {
   "attachments": {},
   "cell_type": "markdown",
   "metadata": {},
   "source": [
    "<h3>Math Addition Game</h3>\n",
    "<p>The game generates 5 sets of two random numbers (in the range of 0-9), and prompts the users to an>swer the sums of each set. </p>\n",
    "<p> The user is informed of the answer and their result after each answer. </p>\n",
    "<p> Once the user answers all 5 questions, their total score and a review of their performance is displayed.</p>\n"
   ]
  },
  {
   "cell_type": "code",
   "execution_count": 35,
   "metadata": {},
   "outputs": [
    {
     "name": "stdout",
     "output_type": "stream",
     "text": [
      "Correct, 2 + 4 = 6.\n",
      "Correct, 4 + 4 = 8.\n",
      "Wrong, 5 + 5 = 10.\n",
      "Correct, 0 + 3 = 3.\n",
      "Correct, 9 + 2 = 11.\n",
      "Your score is: 80.0%\n",
      "You got 4/5 right.\n",
      "Good Work!\n"
     ]
    }
   ],
   "source": [
    "#Math Addition Game\n",
    "\n",
    "#Used to generate questions\n",
    "import random\n",
    "\n",
    "score=0\n",
    "\n",
    "for i in range(0,5):\n",
    "#Generates random numbers between 0-9\n",
    "  num1 = random.randint(0,9)\n",
    "  num2 = random.randint(0,9)\n",
    "  corans=num1+num2\n",
    "#Prompts player\n",
    "  userans=int(input(\"What's the value of \"+str(num1)+\" + \" + str(num2)+\"?\"))\n",
    "#Marks the answers and displays individual question results\n",
    "  if userans==corans:\n",
    "      print(\"Correct, \"+str(num1)+\" + \" + str(num2)+\" = \"+ str(corans)+\".\")\n",
    "      score+=1\n",
    "  else:\n",
    "      print(\"Wrong, \"+str(num1)+\" + \" + str(num2)+\" = \"+ str(corans)+\".\")\n",
    "\n",
    "#Calculates Score %   \n",
    "vscore=(score/5*100)\n",
    "scorecard=(\"Your score is: \"+str(vscore)+\"%\\n\"+\"You got \"+str(score)+\"/5 right.\")\n",
    "\n",
    "#Reviews Performance\n",
    "performance=\"\"\n",
    "if vscore == 100:\n",
    "    performance = \"You got a perfect score!\"\n",
    "elif vscore <100 and vscore >=75:\n",
    "    performance = \"Good Work!\"\n",
    "elif vscore <75 and vscore >=50:\n",
    "    performance = \"Not bad, keep practicing.\"\n",
    "else:\n",
    "    performance = \"You could use a refresher on addition.\"\n",
    "    \n",
    "#Outputs results and message\n",
    "print(scorecard)\n",
    "print(performance)\n",
    "\n",
    "\n"
   ]
  },
  {
   "attachments": {},
   "cell_type": "markdown",
   "metadata": {},
   "source": [
    "<h3>Foosball Roster Exercise </h3>\n",
    "<p> 7 request questions to make changes and derrive stats for a foosball team. </p>"
   ]
  },
  {
   "cell_type": "code",
   "execution_count": 107,
   "metadata": {},
   "outputs": [
    {
     "name": "stdout",
     "output_type": "stream",
     "text": [
      "Starting roster size: 19\n",
      "Median player is number 9 , and their name is  Rebecca .\n",
      "The five players in the middle of the league are:  ['Hubert', 'Raymon', 'Rebecca', 'Monty'] .\n",
      "Average Player  is now the middle player. The players above and below the middle player are  Raymon and Rebecca .\n",
      "AVERAGE PLAYER is now in uppercase.\n",
      "Players have been added to bring the roster size upto 25 players.\n",
      "AVERAGE PLAYER has been changed back to the middle player.\n",
      "The following 4 players were added as per the list:\n",
      "Lacy is one spot ahead of Hubert.\n",
      "Omar is one spot behind Rebecca\n",
      "Otto is 8th best in the league.\n",
      "Chauncey is 10 spots from the bottom of the league.\n",
      "Middle player is now Otto and not AVERAGE PLAYER.\n",
      "Roster size is 29 .\n",
      "Team:\n",
      " ['Mia', 'Retta', 'Augustine', 'Jin', 'Waylon', 'Alphonso', 'AVERAGE PLAYER', 'Otto', 'Sage', 'Lacy', 'Hubert', 'Raymon', 'Rebecca', 'Omar', 'Monty', 'Glen', 'Christi', 'Patrice', 'Chauncey', 'Craig', 'Dexter', 'Wally', 'Ian', 'Pat', 'Foo', 'Bar', 'Baz', 'Waldo', 'Fred']\n"
     ]
    }
   ],
   "source": [
    "# Foosball Players\n",
    "foosballers = [\n",
    "    \"Mia\",\n",
    "    \"Retta\",\n",
    "    \"Augustine\",\n",
    "    \"Jin\",\n",
    "    \"Waylon\",\n",
    "    \"Alphonso\",\n",
    "    \"Sage\",\n",
    "    \"Hubert\",\n",
    "    \"Raymon\",\n",
    "    \"Rebecca\",\n",
    "    \"Monty\",\n",
    "    \"Glen\",\n",
    "    \"Christi\",\n",
    "    \"Patrice\",\n",
    "    \"Craig\",\n",
    "    \"Dexter\",\n",
    "    \"Wally\",\n",
    "    \"Ian\",\n",
    "    \"Pat\"\n",
    "]\n",
    "\n",
    "print(\"Starting roster size:\", len(foosballers))\n",
    "# 1. Median Player\n",
    "medianplayer = (int(len(foosballers)/2))\n",
    "print(\"Median player is number\", medianplayer,\n",
    "      \", and their name is \", foosballers[medianplayer], \".\")\n",
    "\n",
    "# 2. # five players in the middle of the league\n",
    "print(\"The five players in the middle of the league are: \",\n",
    "      foosballers[(medianplayer-2):(medianplayer+2)], \".\")\n",
    "\n",
    "# 3. Add Average Player in the middle of the list, and show who is above and below the median player\n",
    "medianplayer = (int(len(foosballers)/2))\n",
    "foosballers.insert(medianplayer, \"Average Player\")\n",
    "print(foosballers[medianplayer], \" is now the middle player. The players above and below the middle player are \",\n",
    "      foosballers[medianplayer-1], \"and\", foosballers[medianplayer+1], \".\")\n",
    "\n",
    "# 4. Change Average Player to Uppercase\n",
    "foosballers[medianplayer] = str(foosballers[medianplayer].upper())\n",
    "print(foosballers[medianplayer], \"is now in uppercase.\")\n",
    "\n",
    "# 5. Add five more players with names of your choosing, to the bottom of the list.\n",
    "foosballers.extend((\"Foo\", \"Bar\", \"Baz\", \"Waldo\", \"Fred\"))\n",
    "print(\"Players have been added to bring the roster size upto\",\n",
    "      len(foosballers), \"players.\")\n",
    "\n",
    "# 6. Change AVERAGE PLAYER's index back to middle\n",
    "foosballers.remove('AVERAGE PLAYER')\n",
    "medianplayer = (int((len(foosballers)/2)/2))\n",
    "foosballers.insert(medianplayer, \"AVERAGE PLAYER\")\n",
    "medianplayer = (int((len(foosballers)/2)/2))\n",
    "print(foosballers[medianplayer], \"has been changed back to the middle player.\")\n",
    "\n",
    "# 7 Inserted 4 and not 5 ranked players as per list received\n",
    "print(\"The following 4 players were added as per the list:\")\n",
    "newadd = [\n",
    "          [foosballers.index(('Hubert')),\"Lacy\",\"Lacy is one spot ahead of Hubert.\"],\n",
    "          [((foosballers.index(('Rebecca'))+2)), \"Omar\",\"Omar is one spot behind Rebecca\"],\n",
    "          [7, \"Otto\",\"Otto is 8th best in the league.\"],\n",
    "          [-10, \"Chauncey\",\"Chauncey is 10 spots from the bottom of the league.\"]\n",
    "]\n",
    "for placement, name, info in newadd:\n",
    "  foosballers.insert(placement,name)\n",
    "  print(info)\n",
    "\n",
    "# Conclusion\n",
    "medianplayer = (int((len(foosballers)/2)/2))\n",
    "print(\"Middle player is now\",\n",
    "      foosballers[medianplayer], \"and not AVERAGE PLAYER.\")\n",
    "print(\"Roster size is\", len(foosballers), \".\")\n",
    "print(\"Team:\\n\", foosballers)"
   ]
  },
  {
   "attachments": {},
   "cell_type": "markdown",
   "metadata": {},
   "source": [
    "<h3>Others </h3>\n",
    "<p><ol>\n",
    "<li>String Replacement</li>\n",
    "<li>Nomination List </li>"
   ]
  },
  {
   "cell_type": "code",
   "execution_count": 17,
   "metadata": {},
   "outputs": [
    {
     "name": "stdout",
     "output_type": "stream",
     "text": [
      "Just a small town girl\n",
      "Living in a lonely girl\n",
      "She took the midnight train going anywhere\n",
      "Just a city boy\n",
      "Bored and raised in South Detroit \n",
      "He took the midnight train going anywhere\n"
     ]
    }
   ],
   "source": [
    "#String Replacement \n",
    "\n",
    "# Song with wrong lyrics\n",
    "journey = \"\"\"Just a small tone girl\n",
    "Leaving in a lonely whirl\n",
    "She took the midnight tray going anywhere\n",
    "Just a seedy boy\n",
    "Bored and raised in South Detroit or something\n",
    "He took the midnight tray going anywhere\"\"\"\n",
    "\n",
    "# Lyrics correction\n",
    "journey2 = journey.replace('whirl', 'girl').replace('tone', 'town').replace(\n",
    "    'tray', 'train').replace('seedy', 'city').replace(\"or something\", \"\").replace('Leaving', 'Living')\n",
    "print(journey2)\n"
   ]
  },
  {
   "cell_type": "code",
   "execution_count": 380,
   "metadata": {},
   "outputs": [
    {
     "name": "stdout",
     "output_type": "stream",
     "text": [
      "Nomination List:\n",
      "Arnold in Terminator\n",
      "Keanue in Matrix\n",
      "Jody in Contact\n"
     ]
    }
   ],
   "source": [
    "# Nomination list - loops practice\n",
    "\n",
    "#Actors attempt\n",
    "actors = [\"Arnold\", 'Keanue', 'Jody']\n",
    "movies = [\"Terminator\", 'Matrix', 'Contact']\n",
    "\n",
    "def actorsinmovies(): #function set for printing nomination lists\n",
    "  print(\"Nomination List:\")\n",
    "  for i in range(len(movies)):\n",
    "    print(actors[i], \"in\", movies[i])\n",
    "\n",
    "actorsinmovies()\n",
    "\n"
   ]
  }
 ],
 "metadata": {
  "kernelspec": {
   "display_name": "Python 3",
   "language": "python",
   "name": "python3"
  },
  "language_info": {
   "codemirror_mode": {
    "name": "ipython",
    "version": 3
   },
   "file_extension": ".py",
   "mimetype": "text/x-python",
   "name": "python",
   "nbconvert_exporter": "python",
   "pygments_lexer": "ipython3",
   "version": "3.10.9"
  },
  "orig_nbformat": 4,
  "vscode": {
   "interpreter": {
    "hash": "104599ee83387a9ce903f91af99cc55e1f9febae601322361466680ecc553560"
   }
  }
 },
 "nbformat": 4,
 "nbformat_minor": 2
}
